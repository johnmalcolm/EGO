{
 "cells": [
  {
   "cell_type": "code",
   "execution_count": 1,
   "metadata": {},
   "outputs": [],
   "source": [
    "import sys\n",
    "sys.path.append('../library') "
   ]
  },
  {
   "cell_type": "code",
   "execution_count": 2,
   "metadata": {},
   "outputs": [],
   "source": [
    "import functions"
   ]
  },
  {
   "cell_type": "code",
   "execution_count": 3,
   "metadata": {},
   "outputs": [],
   "source": [
    "songs_dir = \"../audio/songs\""
   ]
  },
  {
   "cell_type": "code",
   "execution_count": 4,
   "metadata": {},
   "outputs": [
    {
     "name": "stdout",
     "output_type": "stream",
     "text": [
      "[youtube] Extracting URL: https://www.youtube.com/watch?v=zOHzvvTroXQ\n",
      "[youtube] zOHzvvTroXQ: Downloading webpage\n",
      "[youtube] zOHzvvTroXQ: Downloading ios player API JSON\n",
      "[youtube] zOHzvvTroXQ: Downloading android player API JSON\n",
      "[youtube] zOHzvvTroXQ: Downloading m3u8 information\n",
      "[info] zOHzvvTroXQ: Downloading 1 format(s): 251\n",
      "[download] Destination: ../audio/songs/327 (feat. Tyler, The Creator & Billie Essco).webm\n",
      "[download] 100% of    5.34MiB in 00:00:01 at 4.39MiB/s   \n",
      "[ExtractAudio] Destination: ../audio/songs/327 (feat. Tyler, The Creator & Billie Essco).mp3\n"
     ]
    }
   ],
   "source": [
    "functions.download_mp3('https://www.youtube.com/watch?v=zOHzvvTroXQ', songs_dir)"
   ]
  },
  {
   "cell_type": "code",
   "execution_count": null,
   "metadata": {},
   "outputs": [],
   "source": []
  }
 ],
 "metadata": {
  "kernelspec": {
   "display_name": "Python 3",
   "language": "python",
   "name": "python3"
  },
  "language_info": {
   "codemirror_mode": {
    "name": "ipython",
    "version": 3
   },
   "file_extension": ".py",
   "mimetype": "text/x-python",
   "name": "python",
   "nbconvert_exporter": "python",
   "pygments_lexer": "ipython3",
   "version": "3.11.5"
  },
  "orig_nbformat": 4
 },
 "nbformat": 4,
 "nbformat_minor": 2
}
