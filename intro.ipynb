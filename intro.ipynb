{
 "cells": [
  {
   "cell_type": "code",
   "execution_count": 1,
   "metadata": {},
   "outputs": [],
   "source": [
    "from pytube import YouTube"
   ]
  },
  {
   "cell_type": "code",
   "execution_count": 3,
   "metadata": {},
   "outputs": [
    {
     "data": {
      "text/plain": [
       "'/Users/john.anderson/EGO/Sweet Dreamer.3gpp'"
      ]
     },
     "execution_count": 3,
     "metadata": {},
     "output_type": "execute_result"
    }
   ],
   "source": [
    "YouTube('https://www.youtube.com/watch?v=2AICAd-mZ7g').streams.first().download()"
   ]
  },
  {
   "cell_type": "code",
   "execution_count": 5,
   "metadata": {},
   "outputs": [],
   "source": [
    "yt = YouTube('https://www.youtube.com/watch?v=2AICAd-mZ7g').order_by('abr').desc().first().download()"
   ]
  },
  {
   "cell_type": "code",
   "execution_count": 10,
   "metadata": {},
   "outputs": [
    {
     "data": {
      "text/plain": [
       "[<Stream: itag=\"139\" mime_type=\"audio/mp4\" abr=\"48kbps\" acodec=\"mp4a.40.5\" progressive=\"False\" type=\"audio\">, <Stream: itag=\"140\" mime_type=\"audio/mp4\" abr=\"128kbps\" acodec=\"mp4a.40.2\" progressive=\"False\" type=\"audio\">, <Stream: itag=\"249\" mime_type=\"audio/webm\" abr=\"50kbps\" acodec=\"opus\" progressive=\"False\" type=\"audio\">, <Stream: itag=\"250\" mime_type=\"audio/webm\" abr=\"70kbps\" acodec=\"opus\" progressive=\"False\" type=\"audio\">, <Stream: itag=\"251\" mime_type=\"audio/webm\" abr=\"160kbps\" acodec=\"opus\" progressive=\"False\" type=\"audio\">]"
      ]
     },
     "execution_count": 10,
     "metadata": {},
     "output_type": "execute_result"
    }
   ],
   "source": [
    "yt.streams.filter(only_audio=True)"
   ]
  },
  {
   "cell_type": "code",
   "execution_count": 17,
   "metadata": {},
   "outputs": [],
   "source": [
    "from ytmusicapi import YTMusic\n",
    "ytmusic = YTMusic(\"oauth.json\")"
   ]
  },
  {
   "cell_type": "code",
   "execution_count": 25,
   "metadata": {},
   "outputs": [],
   "source": [
    "playlists = {}"
   ]
  },
  {
   "cell_type": "code",
   "execution_count": 26,
   "metadata": {},
   "outputs": [],
   "source": [
    "playlists['alchemist'] = ytmusic.get_playlist(\"VLPLGEM5zDIV7o0PhOHTneqXEb0X0n1oqozY\")"
   ]
  },
  {
   "cell_type": "code",
   "execution_count": null,
   "metadata": {},
   "outputs": [],
   "source": []
  },
  {
   "cell_type": "code",
   "execution_count": 30,
   "metadata": {},
   "outputs": [
    {
     "data": {
      "text/plain": [
       "[{'videoId': '70Zn_K9HNN4',\n",
       "  'title': '89 Earthquake',\n",
       "  'artists': [{'name': 'Larry June', 'id': 'UC4ispAWGUptZd4G8aHmX4Qw'},\n",
       "   {'name': 'The Alchemist', 'id': 'UC2Eotb0QaPkaJI4Cw4oHZ6Q'}],\n",
       "  'album': {'name': '89 Earthquake', 'id': 'MPREb_1fV7ZnQVgJT'},\n",
       "  'likeStatus': 'INDIFFERENT',\n",
       "  'thumbnails': [{'url': 'https://lh3.googleusercontent.com/UaeJQ2FKMFgAWhD8wM1QLp9I8mjoAZIlr3nTBBvkkLnMUTLd9C8H7tZ4sBiLhXwZ50yzNHReMsXJdlWu=w60-h60-l90-rj',\n",
       "    'width': 60,\n",
       "    'height': 60},\n",
       "   {'url': 'https://lh3.googleusercontent.com/UaeJQ2FKMFgAWhD8wM1QLp9I8mjoAZIlr3nTBBvkkLnMUTLd9C8H7tZ4sBiLhXwZ50yzNHReMsXJdlWu=w120-h120-l90-rj',\n",
       "    'width': 120,\n",
       "    'height': 120}],\n",
       "  'isAvailable': True,\n",
       "  'isExplicit': True,\n",
       "  'videoType': 'MUSIC_VIDEO_TYPE_ATV',\n",
       "  'duration': '3:13',\n",
       "  'duration_seconds': 193,\n",
       "  'setVideoId': '56B44F6D10557CC6',\n",
       "  'feedbackTokens': {'add': 'AB9zfpIkT6G2jbo3VG3EIyrj-PsV6S75e7S9a3UpKIQUk3ondLSmLtXEGLKtz-VK9bQrFLxgUbucAkvAMNfgoxnEHT0uyruWfg',\n",
       "   'remove': 'AB9zfpLq2K1rKQppjs-S5qwFrXZpGWrCSIhl8Vp5RTmC-KMEkdtW-5b8xXdHt4XJTh2bMHyZmaGsML0yhooEWXIFVqx2o8yv4Q'}}]"
      ]
     },
     "execution_count": 30,
     "metadata": {},
     "output_type": "execute_result"
    }
   ],
   "source": [
    "playlists['alchemist']['tracks']"
   ]
  },
  {
   "cell_type": "code",
   "execution_count": 1,
   "metadata": {},
   "outputs": [],
   "source": [
    "import youtube_dl\n",
    "import yt_dlp"
   ]
  },
  {
   "cell_type": "code",
   "execution_count": 6,
   "metadata": {},
   "outputs": [
    {
     "name": "stdout",
     "output_type": "stream",
     "text": [
      "[youtube] Extracting URL: https://www.youtube.com/watch?v=iWD68UjttKI\n",
      "[youtube] iWD68UjttKI: Downloading webpage\n",
      "[youtube] iWD68UjttKI: Downloading ios player API JSON\n",
      "[youtube] iWD68UjttKI: Downloading android player API JSON\n",
      "[youtube] iWD68UjttKI: Downloading m3u8 information\n",
      "[info] iWD68UjttKI: Downloading 1 format(s): 251\n",
      "[download] Destination: On Love [iWD68UjttKI].webm\n",
      "[download] 100% of    4.93MiB in 00:00:01 at 3.75MiB/s   \n",
      "[ExtractAudio] Destination: On Love [iWD68UjttKI].mp3\n",
      "Deleting original file On Love [iWD68UjttKI].webm (pass -k to keep)\n"
     ]
    }
   ],
   "source": [
    "def download_mp3(url):\n",
    "    ydl_opts = {\n",
    "        'format': 'bestaudio/best',\n",
    "        'postprocessors': [{\n",
    "            'key': 'FFmpegExtractAudio',\n",
    "            'preferredcodec': 'mp3',\n",
    "            'preferredquality': '320',\n",
    "        }],\n",
    "    }\n",
    "    \n",
    "    with yt_dlp.YoutubeDL(ydl_opts) as ydl:\n",
    "        ydl.download([url])\n",
    "\n",
    "# Pass the URL of the video or playlist\n",
    "download_mp3('https://www.youtube.com/watch?v=iWD68UjttKI')"
   ]
  },
  {
   "cell_type": "code",
   "execution_count": null,
   "metadata": {},
   "outputs": [],
   "source": []
  }
 ],
 "metadata": {
  "kernelspec": {
   "display_name": "Python 3",
   "language": "python",
   "name": "python3"
  },
  "language_info": {
   "codemirror_mode": {
    "name": "ipython",
    "version": 3
   },
   "file_extension": ".py",
   "mimetype": "text/x-python",
   "name": "python",
   "nbconvert_exporter": "python",
   "pygments_lexer": "ipython3",
   "version": "3.11.5"
  },
  "orig_nbformat": 4
 },
 "nbformat": 4,
 "nbformat_minor": 2
}
